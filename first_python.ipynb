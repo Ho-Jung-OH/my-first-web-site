{
  "nbformat": 4,
  "nbformat_minor": 0,
  "metadata": {
    "colab": {
      "provenance": [],
      "authorship_tag": "ABX9TyPla4CpaDfMCgqqCVotpTU7",
      "include_colab_link": true
    },
    "kernelspec": {
      "name": "python3",
      "display_name": "Python 3"
    },
    "language_info": {
      "name": "python"
    }
  },
  "cells": [
    {
      "cell_type": "markdown",
      "metadata": {
        "id": "view-in-github",
        "colab_type": "text"
      },
      "source": [
        "<a href=\"https://colab.research.google.com/github/Ho-Jung-OH/my-first-web-site/blob/main/Untitled0.ipynb\" target=\"_parent\"><img src=\"https://colab.research.google.com/assets/colab-badge.svg\" alt=\"Open In Colab\"/></a>"
      ]
    },
    {
      "cell_type": "code",
      "execution_count": 1,
      "metadata": {
        "colab": {
          "base_uri": "https://localhost:8080/"
        },
        "id": "VNouGJWRQhav",
        "outputId": "de316158-ea17-4545-89a3-5abf1371c840"
      },
      "outputs": [
        {
          "output_type": "stream",
          "name": "stdout",
          "text": [
            "Hello world!\n"
          ]
        }
      ],
      "source": [
        "print(\"Hello world!\")"
      ]
    },
    {
      "cell_type": "code",
      "source": [
        "Shift + Enter: 셀 실행 \n",
        "Ctrl+ M + A : 셀 위에 삽입\n",
        "Ctrl+ M + B : 셀 아래에 삽입\n",
        "Ctrl+ M + D : Delete 셀 삭제\n",
        "Ctrl+ M + Y : 코드 셀로 변경 \n",
        "Ctrl+ M + M : 마크다운 셀로 변경\n",
        "Ctrl+ M + H : Help 도움말"
      ],
      "metadata": {
        "id": "Y7SpfKd_Q_Ak"
      },
      "execution_count": null,
      "outputs": []
    },
    {
      "cell_type": "code",
      "source": [
        "print(\"'\\는 백슬러시와 동일, 세로 줄바꿈 기능이었다.'\")"
      ],
      "metadata": {
        "colab": {
          "base_uri": "https://localhost:8080/"
        },
        "id": "hYGtpxs1bwZA",
        "outputId": "0f438bef-5e79-4cd1-8c05-1febffae987a"
      },
      "execution_count": 9,
      "outputs": [
        {
          "output_type": "stream",
          "name": "stdout",
          "text": [
            "'\\는 백슬러시와 동일, 세로 줄바꿈 기능이었다.'\n"
          ]
        }
      ]
    },
    {
      "cell_type": "code",
      "source": [
        "print(\"최형준\\n최형준\")"
      ],
      "metadata": {
        "colab": {
          "base_uri": "https://localhost:8080/"
        },
        "id": "GTYER_VXSCEa",
        "outputId": "ee847f1e-b2f2-4a07-ff3e-124142a62f90"
      },
      "execution_count": 7,
      "outputs": [
        {
          "output_type": "stream",
          "name": "stdout",
          "text": [
            "최형준\n",
            "최형준\n"
          ]
        }
      ]
    },
    {
      "cell_type": "code",
      "source": [
        "print(\"오늘 첫 구글 코렙 실행\")"
      ],
      "metadata": {
        "colab": {
          "base_uri": "https://localhost:8080/"
        },
        "id": "u_BFLv4vSdyI",
        "outputId": "e7bc2cc4-d3c7-4bb5-8eda-e469cad11c89"
      },
      "execution_count": 5,
      "outputs": [
        {
          "output_type": "stream",
          "name": "stdout",
          "text": [
            "오늘 첫 구글 코렙 실행\n"
          ]
        }
      ]
    },
    {
      "cell_type": "code",
      "source": [
        "print(\"단축키부터 익히기\")"
      ],
      "metadata": {
        "colab": {
          "base_uri": "https://localhost:8080/"
        },
        "id": "JYXE95PMbSWg",
        "outputId": "4d30f995-824c-4777-fbca-f31e95d7c478"
      },
      "execution_count": 6,
      "outputs": [
        {
          "output_type": "stream",
          "name": "stdout",
          "text": [
            "단축키부터 익히기\n"
          ]
        }
      ]
    },
    {
      "cell_type": "code",
      "source": [],
      "metadata": {
        "id": "pH1veI29ba_w"
      },
      "execution_count": null,
      "outputs": []
    }
  ]
}
