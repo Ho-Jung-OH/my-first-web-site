{
  "nbformat": 4,
  "nbformat_minor": 0,
  "metadata": {
    "colab": {
      "provenance": [],
      "collapsed_sections": [],
      "authorship_tag": "ABX9TyN4j7YdVLA6ibdY++5zUp5x",
      "include_colab_link": true
    },
    "kernelspec": {
      "name": "python3",
      "display_name": "Python 3"
    },
    "language_info": {
      "name": "python"
    }
  },
  "cells": [
    {
      "cell_type": "markdown",
      "metadata": {
        "id": "view-in-github",
        "colab_type": "text"
      },
      "source": [
        "<a href=\"https://colab.research.google.com/github/Ho-Jung-OH/my-first-web-site/blob/main/1104_%EB%B9%85%EC%A0%80(%EC%BD%94%EB%A0%99_%EA%B8%B0%EC%B4%88).ipynb\" target=\"_parent\"><img src=\"https://colab.research.google.com/assets/colab-badge.svg\" alt=\"Open In Colab\"/></a>"
      ]
    },
    {
      "cell_type": "code",
      "source": [
        "print(\"hello world\")\n",
        "print(123456789)"
      ],
      "metadata": {
        "colab": {
          "base_uri": "https://localhost:8080/"
        },
        "id": "hFGJeqB7l7uY",
        "outputId": "0e09adef-6f55-45fb-d37f-4f6d79f095d4"
      },
      "execution_count": null,
      "outputs": [
        {
          "output_type": "stream",
          "name": "stdout",
          "text": [
            "hello world\n",
            "123456789\n"
          ]
        }
      ]
    },
    {
      "cell_type": "code",
      "source": [
        "#나만의 루틴 한가지 출력해보기\n",
        "print(\"일어나자마자 물 한잔 마시기\")\n",
        "print('홍삼 챙겨먹기')"
      ],
      "metadata": {
        "colab": {
          "base_uri": "https://localhost:8080/"
        },
        "id": "Ze45bqOxmKvI",
        "outputId": "21605781-6340-40af-da3c-85c01ba2c602"
      },
      "execution_count": null,
      "outputs": [
        {
          "output_type": "stream",
          "name": "stdout",
          "text": [
            "일어나자마자 물 한잔 마시기\n",
            "홍삼 챙겨먹기\n"
          ]
        }
      ]
    },
    {
      "cell_type": "code",
      "source": [
        "url = \"https://news.sbs.co.kr/news/newsPlusList.do?themeId=10000000114\"\n",
        "print(url)"
      ],
      "metadata": {
        "colab": {
          "base_uri": "https://localhost:8080/"
        },
        "id": "MDal1ahQmln2",
        "outputId": "9ee1a29b-f87a-406b-b5ae-16438f74c08b"
      },
      "execution_count": null,
      "outputs": [
        {
          "output_type": "stream",
          "name": "stdout",
          "text": [
            "https://news.sbs.co.kr/news/newsPlusList.do?themeId=10000000114\n"
          ]
        }
      ]
    },
    {
      "cell_type": "code",
      "source": [
        "#수도권 코로나 확진자 현황\n",
        "seoul = 12345\n",
        "incheon = 300\n",
        "print(\"서울: \")\n",
        "print(seoul)\n",
        "print(\"인천: \")\n",
        "print(incheon)\n",
        "\n",
        "#서울, 경기, 인천 확진자 수 합계 구하기\n",
        "metro_area = seoul + incheon\n",
        "print(\"수도권 감염자 수는 ? :\")\n",
        "print(metro_area)"
      ],
      "metadata": {
        "colab": {
          "base_uri": "https://localhost:8080/"
        },
        "id": "WAHNmdwkm86U",
        "outputId": "f87f6b05-251b-41c4-815b-ee58097477c4"
      },
      "execution_count": null,
      "outputs": [
        {
          "output_type": "stream",
          "name": "stdout",
          "text": [
            "서울: \n",
            "12345\n",
            "인천: \n",
            "300\n",
            "수도권 감염자 수는 ? :\n",
            "12645\n"
          ]
        }
      ]
    },
    {
      "cell_type": "code",
      "source": [
        "grade_1 = 3\n",
        "grade_2 = 2.0\n",
        "\n",
        "print(\"grade_1 type: \")\n",
        "print(type(grade_1))\n",
        "print(\"grade_2 type: \")\n",
        "print(type(grade_2))\n",
        "\n",
        "print(\"average : \")\n",
        "print(grade_1/2 + grade_2/2)\n",
        "print(type(grade_1/2 + grade_2/2))\n"
      ],
      "metadata": {
        "colab": {
          "base_uri": "https://localhost:8080/"
        },
        "id": "WnN5e5qUoOZI",
        "outputId": "e1bd4e03-773a-4b82-94a6-748e81a7d891"
      },
      "execution_count": null,
      "outputs": [
        {
          "output_type": "stream",
          "name": "stdout",
          "text": [
            "grade_1 type: \n",
            "<class 'int'>\n",
            "grade_2 type: \n",
            "<class 'float'>\n",
            "average : \n",
            "2.5\n",
            "<class 'float'>\n"
          ]
        }
      ]
    },
    {
      "cell_type": "code",
      "source": [
        "print(10/5)\n",
        "num = 3*2/2*6\n",
        "print(num)\n"
      ],
      "metadata": {
        "colab": {
          "base_uri": "https://localhost:8080/"
        },
        "id": "twGcamTOpRhx",
        "outputId": "83bbb55b-f08f-4eb2-8def-42bc83a5ea1f"
      },
      "execution_count": null,
      "outputs": [
        {
          "output_type": "stream",
          "name": "stdout",
          "text": [
            "2.0\n",
            "18.0\n"
          ]
        }
      ]
    },
    {
      "cell_type": "code",
      "source": [
        "leftover_wine = (12 * 2 % 10)\n",
        "print(leftover_wine)"
      ],
      "metadata": {
        "colab": {
          "base_uri": "https://localhost:8080/"
        },
        "id": "ql3SFWJ0piPY",
        "outputId": "ce2d9fa5-d85b-4f9d-9bca-60e9a2025008"
      },
      "execution_count": null,
      "outputs": [
        {
          "output_type": "stream",
          "name": "stdout",
          "text": [
            "4\n"
          ]
        }
      ]
    },
    {
      "cell_type": "code",
      "source": [
        "seoul = 4987483\n",
        "print(\"어제 확진자 수\")\n",
        "print(seoul)\n",
        "\n",
        "seoul -= 3500\n",
        "print(\"오늘 확진자 수\")\n",
        "print( seoul )"
      ],
      "metadata": {
        "colab": {
          "base_uri": "https://localhost:8080/"
        },
        "id": "gTtQcjQZp1We",
        "outputId": "f07f31d3-5e41-4b80-c019-74d7a9f777ce"
      },
      "execution_count": null,
      "outputs": [
        {
          "output_type": "stream",
          "name": "stdout",
          "text": [
            "어제 확진자 수\n",
            "4987483\n",
            "오늘 확진자 수\n",
            "4983983\n"
          ]
        }
      ]
    },
    {
      "cell_type": "code",
      "source": [
        "string_1 = \"나는 읽기 쉬운 마음이야 \"\n",
        "string_2 = \"당신도 스윽 훑고 가셔요. \"\n",
        "string_3 = \"달랠 길 없는 외로운 마음 있지 \"\n",
        "string_4 = \"머물다 가셔요\"\n",
        "\n",
        "lyrics = string_1 + string_2 + string_3 + string_4\n",
        "print()\n",
        "print(lyrics)"
      ],
      "metadata": {
        "colab": {
          "base_uri": "https://localhost:8080/"
        },
        "id": "FtZRr4gxqABI",
        "outputId": "6c747efa-c474-4e3e-8af6-42ff65d7e04b"
      },
      "execution_count": 2,
      "outputs": [
        {
          "output_type": "stream",
          "name": "stdout",
          "text": [
            "\n",
            "나는 읽기 쉬운 마음이야 당신도 스윽 훑고 가셔요. 달랠 길 없는 외로운 마음 있지 머물다 가셔요\n"
          ]
        }
      ]
    },
    {
      "cell_type": "code",
      "source": [
        "def love(my_name, your_name = \"호정\"): \n",
        "    print(f\"{my_name} loves {your_name}!\")\n",
        "\n",
        "love(\"TheBoys 주연\")"
      ],
      "metadata": {
        "colab": {
          "base_uri": "https://localhost:8080/"
        },
        "id": "EqgTPawcqrde",
        "outputId": "ee93f38d-d3b3-43ae-e9f4-30687ec3224d"
      },
      "execution_count": null,
      "outputs": [
        {
          "output_type": "stream",
          "name": "stdout",
          "text": [
            "TheBoys 주연 loves 호정!\n"
          ]
        }
      ]
    },
    {
      "cell_type": "code",
      "source": [
        "love(\"더보이즈 주연\",\"호정\")"
      ],
      "metadata": {
        "colab": {
          "base_uri": "https://localhost:8080/"
        },
        "id": "psu97Cb2rtGP",
        "outputId": "22b8c668-632a-4f0a-b1a1-38d13e8c7d18"
      },
      "execution_count": null,
      "outputs": [
        {
          "output_type": "stream",
          "name": "stdout",
          "text": [
            "더보이즈 주연 loves 호정!\n"
          ]
        }
      ]
    },
    {
      "cell_type": "code",
      "source": [
        "def sing():\n",
        "  print(string_1)\n",
        "  print(string_2)\n",
        "  print(string_3)\n",
        "  print(string_4)\n",
        "\n",
        "sing()"
      ],
      "metadata": {
        "colab": {
          "base_uri": "https://localhost:8080/"
        },
        "id": "kv1yWjTKsHia",
        "outputId": "6a1e9183-4b79-4c9a-b624-f5a232a00ec4"
      },
      "execution_count": 3,
      "outputs": [
        {
          "output_type": "stream",
          "name": "stdout",
          "text": [
            "나는 읽기 쉬운 마음이야 \n",
            "당신도 스윽 훑고 가셔요. \n",
            "달랠 길 없는 외로운 마음 있지 \n",
            "머물다 가셔요\n"
          ]
        }
      ]
    },
    {
      "cell_type": "code",
      "source": [
        "def sing(thing1, thing2):\n",
        "  print(thing1 + \"내리고\")\n",
        "  print(thing2 + \"흐르면\")\n",
        "  print(\"난 당신을 생각해요\")\n",
        "  print(\"당신이 떠나시던 그 밤에 이렇게 비가 왔어요 \\n\")\n",
        "\n",
        "sing(\"비가 \", \"음악이 \")\n",
        "sing(\"눈이 \", \"눈물이 \")"
      ],
      "metadata": {
        "colab": {
          "base_uri": "https://localhost:8080/"
        },
        "id": "sC5EWl2GsSGz",
        "outputId": "48a91990-607b-4ef0-e8a2-342cd1a408a9"
      },
      "execution_count": 7,
      "outputs": [
        {
          "output_type": "stream",
          "name": "stdout",
          "text": [
            "비가 내리고\n",
            "음악이 흐르면\n",
            "난 당신을 생각해요\n",
            "당신이 떠나시던 그 밤에 이렇게 비가 왔어요 \n",
            "\n",
            "눈이 내리고\n",
            "눈물이 흐르면\n",
            "난 당신을 생각해요\n",
            "당신이 떠나시던 그 밤에 이렇게 비가 왔어요 \n",
            "\n"
          ]
        }
      ]
    },
    {
      "cell_type": "code",
      "source": [
        "def devide_by_2(input_number):\n",
        "    return input_number / 2\n",
        "\n",
        "devide_by_2(230293837)"
      ],
      "metadata": {
        "colab": {
          "base_uri": "https://localhost:8080/"
        },
        "id": "C52tGklDtCF9",
        "outputId": "f6b38737-4fb8-4c97-a9b8-12c92329c252"
      },
      "execution_count": null,
      "outputs": [
        {
          "output_type": "execute_result",
          "data": {
            "text/plain": [
              "115146918.5"
            ]
          },
          "metadata": {},
          "execution_count": 53
        }
      ]
    },
    {
      "cell_type": "code",
      "source": [
        "def devide_multiple_by_2(input_number):\n",
        "    d = input_number / 2\n",
        "    m = input_number * 2\n",
        "    return d, m\n",
        "\n",
        "devide_multiple_by_2(56789)"
      ],
      "metadata": {
        "colab": {
          "base_uri": "https://localhost:8080/"
        },
        "id": "bJYeFKbet8Aj",
        "outputId": "e92feb37-04ad-4345-b853-6b94600b71c3"
      },
      "execution_count": null,
      "outputs": [
        {
          "output_type": "execute_result",
          "data": {
            "text/plain": [
              "(28394.5, 113578)"
            ]
          },
          "metadata": {},
          "execution_count": 80
        }
      ]
    },
    {
      "cell_type": "code",
      "source": [
        "food_i_want = []\n",
        "print(\"내가 먹고 싶은 음식\")\n",
        "food_i_want = ['떡볶이', '마라샹궈']\n",
        "print(\"떡볶이\",\"마라샹궈\")\n",
        "\n",
        "food_i_want_detail = [['신전떡볶이','엽기떡볶이'],['매운마라샹궈'],['닭발','양대창']]\n",
        "\n",
        "food_i_want_detail.append(['샤인머스캣'])\n",
        "print(food_i_want_detail)"
      ],
      "metadata": {
        "colab": {
          "base_uri": "https://localhost:8080/"
        },
        "id": "6MH6GjDCuQop",
        "outputId": "ca2d25e6-b499-4f3d-ce8e-c0bf79383682"
      },
      "execution_count": null,
      "outputs": [
        {
          "output_type": "stream",
          "name": "stdout",
          "text": [
            "내가 먹고 싶은 음식\n",
            "떡볶이 마라샹궈\n",
            "[['신전떡볶이', '엽기떡볶이'], ['매운마라샹궈'], ['닭발', '양대창'], ['샤인머스캣']]\n"
          ]
        }
      ]
    },
    {
      "cell_type": "code",
      "source": [
        "my_range = range(0, 31)\n",
        "print(\"0부터 30까지 숫자\")\n",
        "print(list(my_range))\n",
        "\n",
        "print(\"range(0, 31)은 0부터 31미만의 숫자를 포함한다는 뜻\")"
      ],
      "metadata": {
        "colab": {
          "base_uri": "https://localhost:8080/"
        },
        "id": "QgkdY0RRvpUW",
        "outputId": "28b56aab-5129-429e-b1eb-5e7cf0aa927c"
      },
      "execution_count": null,
      "outputs": [
        {
          "output_type": "stream",
          "name": "stdout",
          "text": [
            "0부터 30까지 숫자\n",
            "[0, 1, 2, 3, 4, 5, 6, 7, 8, 9, 10, 11, 12, 13, 14, 15, 16, 17, 18, 19, 20, 21, 22, 23, 24, 25, 26, 27, 28, 29, 30]\n",
            "range(0, 31)은 0부터 31미만의 숫자를 포함한다는 뜻\n"
          ]
        }
      ]
    },
    {
      "cell_type": "code",
      "source": [
        "list1 = [0,3,5,4]\n",
        "print(list1[2]) #0,1,2(세번째)\n",
        "\n",
        "list2 = ['i','love','you', 1004]\n",
        "print(list2[1])"
      ],
      "metadata": {
        "colab": {
          "base_uri": "https://localhost:8080/"
        },
        "id": "ZwH63Qj9wA7p",
        "outputId": "15da59f0-9ff3-4c41-e428-58c82b3fd24c"
      },
      "execution_count": null,
      "outputs": [
        {
          "output_type": "stream",
          "name": "stdout",
          "text": [
            "5\n",
            "love\n"
          ]
        }
      ]
    },
    {
      "cell_type": "code",
      "source": [
        "a= list(range(10))\n",
        "\n",
        "print(a)\n",
        "print( a[ : 6])\n",
        "print( a[ : ])\n",
        "print( a[ : : 2])\n",
        "\n"
      ],
      "metadata": {
        "colab": {
          "base_uri": "https://localhost:8080/"
        },
        "id": "cww1dpXow51e",
        "outputId": "9162e938-67dd-4b62-f572-b28723ee21d4"
      },
      "execution_count": null,
      "outputs": [
        {
          "output_type": "stream",
          "name": "stdout",
          "text": [
            "[0, 1, 2, 3, 4, 5, 6, 7, 8, 9]\n",
            "[0, 1, 2, 3, 4, 5]\n",
            "[0, 1, 2, 3, 4, 5, 6, 7, 8, 9]\n",
            "[0, 2, 4, 6, 8]\n"
          ]
        }
      ]
    },
    {
      "cell_type": "code",
      "source": [
        "list3 = list2 = ['i','love','you','1004']\n",
        "result =list3[0 : 2]\n",
        "#list3 안의 첫번째부터 두번째까지의 값(0부터 2미만)\n",
        "\n",
        "print(result)"
      ],
      "metadata": {
        "colab": {
          "base_uri": "https://localhost:8080/"
        },
        "id": "rTzNWv1uxR-x",
        "outputId": "0e06fc62-fd54-41ce-c632-b98b079d2a40"
      },
      "execution_count": null,
      "outputs": [
        {
          "output_type": "stream",
          "name": "stdout",
          "text": [
            "['i', 'love']\n"
          ]
        }
      ]
    },
    {
      "cell_type": "code",
      "source": [
        "cat_breeds = ['샴','러시안블루','먼치킨','페르시안','코리안숏헤어']\n",
        "\n",
        "for cat in cat_breeds:\n",
        "  print(cat)"
      ],
      "metadata": {
        "colab": {
          "base_uri": "https://localhost:8080/"
        },
        "id": "-zr13v15xv3-",
        "outputId": "6ff70e16-b135-4d97-d163-6b9688acaca2"
      },
      "execution_count": null,
      "outputs": [
        {
          "output_type": "stream",
          "name": "stdout",
          "text": [
            "샴\n",
            "러시안블루\n",
            "먼치킨\n",
            "페르시안\n",
            "코리안숏헤어\n"
          ]
        }
      ]
    },
    {
      "cell_type": "code",
      "source": [
        "print(cat)"
      ],
      "metadata": {
        "colab": {
          "base_uri": "https://localhost:8080/"
        },
        "id": "vLW5HtMWyqPl",
        "outputId": "8b150089-53e2-40ec-9a0b-5952e57160f6"
      },
      "execution_count": null,
      "outputs": [
        {
          "output_type": "stream",
          "name": "stdout",
          "text": [
            "코리안숏헤어\n"
          ]
        }
      ]
    },
    {
      "cell_type": "code",
      "source": [
        "i = 1\n",
        "while i <= 10:  #i가 10보다 작거나 같으면\n",
        "    print(i)    #i를 출력\n",
        "    i += 1      #i는 1씩 증가"
      ],
      "metadata": {
        "colab": {
          "base_uri": "https://localhost:8080/"
        },
        "id": "9PKPspL9yynS",
        "outputId": "2e18ea30-98c9-450f-e247-dd29e73613ee"
      },
      "execution_count": null,
      "outputs": [
        {
          "output_type": "stream",
          "name": "stdout",
          "text": [
            "1\n",
            "2\n",
            "3\n",
            "4\n",
            "5\n",
            "6\n",
            "7\n",
            "8\n",
            "9\n",
            "10\n"
          ]
        }
      ]
    },
    {
      "cell_type": "code",
      "source": [
        "i = 20\n",
        "while i >= 10:\n",
        "  print(i)\n",
        "  i -= 1"
      ],
      "metadata": {
        "colab": {
          "base_uri": "https://localhost:8080/"
        },
        "id": "N7x9_9-0zJjJ",
        "outputId": "8fbd4d69-0cc1-4500-a906-296c090f8d7f"
      },
      "execution_count": null,
      "outputs": [
        {
          "output_type": "stream",
          "name": "stdout",
          "text": [
            "20\n",
            "19\n",
            "18\n",
            "17\n",
            "16\n",
            "15\n",
            "14\n",
            "13\n",
            "12\n",
            "11\n",
            "10\n"
          ]
        }
      ]
    },
    {
      "cell_type": "code",
      "source": [
        "i = 1       #1부터 시작\n",
        "sum = 0     #시작은 0 (아직 하나도 안더했으니까)\n",
        "while i <= 100 :      \n",
        "  sum += i\n",
        "  i += 1\n",
        "\n",
        "print(sum)"
      ],
      "metadata": {
        "colab": {
          "base_uri": "https://localhost:8080/"
        },
        "id": "SnStW5MMzWqL",
        "outputId": "982fa0ba-1927-4b7f-e548-84ef065f32c5"
      },
      "execution_count": null,
      "outputs": [
        {
          "output_type": "stream",
          "name": "stdout",
          "text": [
            "5050\n"
          ]
        }
      ]
    },
    {
      "cell_type": "code",
      "source": [
        "for i in range(10):\n",
        "  print(\"Hello\")"
      ],
      "metadata": {
        "colab": {
          "base_uri": "https://localhost:8080/"
        },
        "id": "5gzz_L4ZzneZ",
        "outputId": "715a710c-f0b2-4062-d4f1-1f1890641536"
      },
      "execution_count": null,
      "outputs": [
        {
          "output_type": "stream",
          "name": "stdout",
          "text": [
            "Hello\n",
            "Hello\n",
            "Hello\n",
            "Hello\n",
            "Hello\n",
            "Hello\n",
            "Hello\n",
            "Hello\n",
            "Hello\n",
            "Hello\n"
          ]
        }
      ]
    },
    {
      "cell_type": "code",
      "source": [
        "for i in range(10):\n",
        "  print(i, \"번째\",\"Hello\")"
      ],
      "metadata": {
        "colab": {
          "base_uri": "https://localhost:8080/"
        },
        "id": "Kbt_TlHg3OSO",
        "outputId": "6455730b-915c-4774-e8d5-4555c33e5e1f"
      },
      "execution_count": null,
      "outputs": [
        {
          "output_type": "stream",
          "name": "stdout",
          "text": [
            "0 번째 Hello\n",
            "1 번째 Hello\n",
            "2 번째 Hello\n",
            "3 번째 Hello\n",
            "4 번째 Hello\n",
            "5 번째 Hello\n",
            "6 번째 Hello\n",
            "7 번째 Hello\n",
            "8 번째 Hello\n",
            "9 번째 Hello\n"
          ]
        }
      ]
    },
    {
      "cell_type": "code",
      "source": [
        "list1 = range(5)\n",
        "print(list(list1))\n",
        "print(len(list1))"
      ],
      "metadata": {
        "colab": {
          "base_uri": "https://localhost:8080/"
        },
        "id": "s3Ci3HJe3YSF",
        "outputId": "a5258577-5fa5-4fa9-ea34-a3cb49551944"
      },
      "execution_count": null,
      "outputs": [
        {
          "output_type": "stream",
          "name": "stdout",
          "text": [
            "[0, 1, 2, 3, 4]\n",
            "5\n"
          ]
        }
      ]
    },
    {
      "cell_type": "code",
      "source": [
        "i = 0\n",
        "sum = 0\n",
        "while True:\n",
        "  i += 1\n",
        "  if i > 100:\n",
        "    break     #100이 넘으면 빠져나와라\n",
        "  sum += i\n",
        "\n",
        "print(sum)"
      ],
      "metadata": {
        "colab": {
          "base_uri": "https://localhost:8080/"
        },
        "id": "0u_BA7nW3qra",
        "outputId": "04e4443d-8d15-4e86-c827-fb99b81e3870"
      },
      "execution_count": null,
      "outputs": [
        {
          "output_type": "stream",
          "name": "stdout",
          "text": [
            "5050\n"
          ]
        }
      ]
    },
    {
      "cell_type": "code",
      "source": [
        "eng = ['A','B','C','D','E','F','G','H']\n",
        "\n",
        "i = 0\n",
        "while True:\n",
        "  print(eng[i])\n",
        "  i += 1\n",
        "  if eng[i] =='F':\n",
        "    break\n",
        "    "
      ],
      "metadata": {
        "colab": {
          "base_uri": "https://localhost:8080/"
        },
        "id": "8ttWSdyN4UMZ",
        "outputId": "e2665807-80b7-41d8-c0cc-bc9d0cb87317"
      },
      "execution_count": null,
      "outputs": [
        {
          "output_type": "stream",
          "name": "stdout",
          "text": [
            "A\n",
            "B\n",
            "C\n",
            "D\n",
            "E\n"
          ]
        }
      ]
    },
    {
      "cell_type": "code",
      "source": [
        "celsius = [0,1,2,3,4,5]"
      ],
      "metadata": {
        "id": "9uR9w0h15kgd"
      },
      "execution_count": null,
      "outputs": []
    },
    {
      "cell_type": "code",
      "source": [],
      "metadata": {
        "id": "MFxxRNE254sM"
      },
      "execution_count": null,
      "outputs": []
    }
  ]
}